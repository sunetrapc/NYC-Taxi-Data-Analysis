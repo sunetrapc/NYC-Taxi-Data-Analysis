{
 "cells": [
  {
   "cell_type": "markdown",
   "id": "900cbbbd-aee0-420b-81ad-1dbb2bb0acb5",
   "metadata": {},
   "source": [
    "# Assignment 1 - YourName"
   ]
  },
  {
   "cell_type": "markdown",
   "id": "be128d2f-9718-4171-9686-491b6d3a0a37",
   "metadata": {},
   "source": [
    "**Filename: Assignment1_YourName.ipynb**"
   ]
  },
  {
   "cell_type": "markdown",
   "id": "cb6d369f-648a-45f6-8cb0-aa46f5c78d1f",
   "metadata": {},
   "source": [
    "### **Problem 1: What is the average trip distance?**"
   ]
  },
  {
   "cell_type": "code",
   "execution_count": 6,
   "id": "1f5ce370-c2d2-49ff-88c9-51ac9ee42c09",
   "metadata": {},
   "outputs": [
    {
     "name": "stdout",
     "output_type": "stream",
     "text": [
      "3.303828\n"
     ]
    }
   ],
   "source": [
    "import pymysql\n",
    "\n",
    "# Connect to the database\n",
    "connection = pymysql.connect(host='localhost', user='root', password='root', database='nyc_taxi_data')\n",
    "\n",
    "try:\n",
    "    with connection.cursor() as cursor:\n",
    "        # Execute a query\n",
    "        cursor.execute(\"SELECT AVG(trip_distance) FROM nyc_taxi_data.nyctaxidata;\")\n",
    "        \n",
    "        # Fetch all rows from the last executed query\n",
    "        result = cursor.fetchall()\n",
    "        \n",
    "        for row in result:\n",
    "            print(float(row[0]))\n",
    "finally:\n",
    "    connection.close()\n"
   ]
  },
  {
   "cell_type": "markdown",
   "id": "d5d5b342-52e5-4144-bf0f-351104c1bd6f",
   "metadata": {},
   "source": [
    "### **Problem 2: What is the relationship between trip distance and fare amount?**"
   ]
  },
  {
   "cell_type": "markdown",
   "id": "75e55883-fc21-4131-8e2c-d23c3d33bfdb",
   "metadata": {},
   "source": [
    "#### Method 1: High Limit, load all in memory"
   ]
  },
  {
   "cell_type": "code",
   "execution_count": null,
   "id": "dce6c5dc-b667-4772-b504-50846d4d8232",
   "metadata": {},
   "outputs": [],
   "source": [
    "import pymysql\n",
    "\n",
    "# Connect to the database\n",
    "connection = pymysql.connect(host='localhost', user='root', password='root', database='nyc_taxi_data')\n",
    "try:\n",
    "    # Execute a query and save the result directly into a pandas DataFrame\n",
    "    df = pd.read_sql_query(\"SELECT trip_distance, fare_amount FROM nyc_taxi_data.nyctaxidata LIMIT 10000000;\", connection)\n",
    "finally:\n",
    "    connection.close()"
   ]
  },
  {
   "cell_type": "code",
   "execution_count": 82,
   "id": "fc351ac0-305f-4e58-bb3f-d5b89f1a66d4",
   "metadata": {},
   "outputs": [
    {
     "data": {
      "text/html": [
       "<div>\n",
       "<style scoped>\n",
       "    .dataframe tbody tr th:only-of-type {\n",
       "        vertical-align: middle;\n",
       "    }\n",
       "\n",
       "    .dataframe tbody tr th {\n",
       "        vertical-align: top;\n",
       "    }\n",
       "\n",
       "    .dataframe thead th {\n",
       "        text-align: right;\n",
       "    }\n",
       "</style>\n",
       "<table border=\"1\" class=\"dataframe\">\n",
       "  <thead>\n",
       "    <tr style=\"text-align: right;\">\n",
       "      <th></th>\n",
       "      <th>trip_distance</th>\n",
       "      <th>fare_amount</th>\n",
       "    </tr>\n",
       "  </thead>\n",
       "  <tbody>\n",
       "    <tr>\n",
       "      <th>0</th>\n",
       "      <td>1.10</td>\n",
       "      <td>10.0</td>\n",
       "    </tr>\n",
       "    <tr>\n",
       "      <th>1</th>\n",
       "      <td>2.20</td>\n",
       "      <td>13.5</td>\n",
       "    </tr>\n",
       "    <tr>\n",
       "      <th>2</th>\n",
       "      <td>0.66</td>\n",
       "      <td>7.2</td>\n",
       "    </tr>\n",
       "    <tr>\n",
       "      <th>3</th>\n",
       "      <td>2.20</td>\n",
       "      <td>11.4</td>\n",
       "    </tr>\n",
       "    <tr>\n",
       "      <th>4</th>\n",
       "      <td>5.70</td>\n",
       "      <td>23.3</td>\n",
       "    </tr>\n",
       "  </tbody>\n",
       "</table>\n",
       "</div>"
      ],
      "text/plain": [
       "   trip_distance  fare_amount\n",
       "0           1.10         10.0\n",
       "1           2.20         13.5\n",
       "2           0.66          7.2\n",
       "3           2.20         11.4\n",
       "4           5.70         23.3"
      ]
     },
     "execution_count": 82,
     "metadata": {},
     "output_type": "execute_result"
    }
   ],
   "source": [
    "df.head()"
   ]
  },
  {
   "cell_type": "markdown",
   "id": "61370d3e-e1fa-4cb0-9837-845279153867",
   "metadata": {},
   "source": [
    "#### Method 2: Chunk into smaller pieces"
   ]
  },
  {
   "cell_type": "code",
   "execution_count": 86,
   "id": "6142cca8-6c3d-42e1-85f5-20be6a370510",
   "metadata": {},
   "outputs": [
    {
     "name": "stderr",
     "output_type": "stream",
     "text": [
      "C:\\Users\\Administrator\\AppData\\Local\\Temp\\2\\ipykernel_10704\\500257598.py:8: UserWarning: pandas only supports SQLAlchemy connectable (engine/connection) or database string URI or sqlite3 DBAPI2 connection. Other DBAPI2 objects are not tested. Please consider using SQLAlchemy.\n",
      "  for chunk in pd.read_sql_query(\"SELECT trip_distance, fare_amount FROM nyc_taxi_data.nyctaxidata LIMIT 10000000;\", connection, chunksize=chunk_size):\n"
     ]
    }
   ],
   "source": [
    "import pymysql\n",
    "\n",
    "end_df = pd.DataFrame()\n",
    "chunk_size = 100000\n",
    "# Connect to the database\n",
    "connection = pymysql.connect(host='localhost', user='root', password='root', database='nyc_taxi_data')\n",
    "try:\n",
    "    for chunk in pd.read_sql_query(\"SELECT trip_distance, fare_amount FROM nyc_taxi_data.nyctaxidata LIMIT 10000000;\",\n",
    "                                   connection,\n",
    "                                   chunksize=chunk_size):\n",
    "        end_df = pd.concat([end_df, chunk], ignore_index = True)\n",
    "finally:\n",
    "    connection.close()"
   ]
  },
  {
   "cell_type": "code",
   "execution_count": 87,
   "id": "b91c977b-eee8-4b4a-8809-ce92ad5b399a",
   "metadata": {},
   "outputs": [
    {
     "data": {
      "text/html": [
       "<div>\n",
       "<style scoped>\n",
       "    .dataframe tbody tr th:only-of-type {\n",
       "        vertical-align: middle;\n",
       "    }\n",
       "\n",
       "    .dataframe tbody tr th {\n",
       "        vertical-align: top;\n",
       "    }\n",
       "\n",
       "    .dataframe thead th {\n",
       "        text-align: right;\n",
       "    }\n",
       "</style>\n",
       "<table border=\"1\" class=\"dataframe\">\n",
       "  <thead>\n",
       "    <tr style=\"text-align: right;\">\n",
       "      <th></th>\n",
       "      <th>trip_distance</th>\n",
       "      <th>fare_amount</th>\n",
       "    </tr>\n",
       "  </thead>\n",
       "  <tbody>\n",
       "    <tr>\n",
       "      <th>0</th>\n",
       "      <td>1.10</td>\n",
       "      <td>10.0</td>\n",
       "    </tr>\n",
       "    <tr>\n",
       "      <th>1</th>\n",
       "      <td>2.20</td>\n",
       "      <td>13.5</td>\n",
       "    </tr>\n",
       "    <tr>\n",
       "      <th>2</th>\n",
       "      <td>0.66</td>\n",
       "      <td>7.2</td>\n",
       "    </tr>\n",
       "    <tr>\n",
       "      <th>3</th>\n",
       "      <td>2.20</td>\n",
       "      <td>11.4</td>\n",
       "    </tr>\n",
       "    <tr>\n",
       "      <th>4</th>\n",
       "      <td>5.70</td>\n",
       "      <td>23.3</td>\n",
       "    </tr>\n",
       "  </tbody>\n",
       "</table>\n",
       "</div>"
      ],
      "text/plain": [
       "   trip_distance  fare_amount\n",
       "0           1.10         10.0\n",
       "1           2.20         13.5\n",
       "2           0.66          7.2\n",
       "3           2.20         11.4\n",
       "4           5.70         23.3"
      ]
     },
     "execution_count": 87,
     "metadata": {},
     "output_type": "execute_result"
    }
   ],
   "source": [
    "end_df.head()"
   ]
  },
  {
   "cell_type": "code",
   "execution_count": 73,
   "id": "979d260c-663f-4a1b-80af-1d8f7b4c81ee",
   "metadata": {},
   "outputs": [
    {
     "data": {
      "image/png": "[encoded data removed]",
      "text/plain": [
       "<Figure size 640x480 with 1 Axes>"
      ]
     },
     "metadata": {},
     "output_type": "display_data"
    }
   ],
   "source": [
    "import matplotlib.pyplot as plt\n",
    "\n",
    "scatter_plot  = sns.scatterplot(x=\"trip_distance\", y=\"fare_amount\", data=df)\n",
    "\n",
    "scatter_plot.set_title('Relationship between Trip Distance and Fare Amount')\n",
    "scatter_plot.set_xlabel('Trip Distance (miles)')\n",
    "scatter_plot.set_ylabel('Fare Amount ($)')\n",
    "scatter_plot;"
   ]
  },
  {
   "cell_type": "code",
   "execution_count": 74,
   "id": "848d51b2-9d43-4809-a581-720bde2c56df",
   "metadata": {},
   "outputs": [
    {
     "data": {
      "image/png": "[encoded data removed]",
      "text/plain": [
       "<Figure size 640x480 with 1 Axes>"
      ]
     },
     "metadata": {},
     "output_type": "display_data"
    }
   ],
   "source": [
    "#Interesting to see that there are negative fare_amount values that need to be investigated further. \n",
    "## Also, there is an outlier in the data. We will remove it.\n",
    "\n",
    "scatter_plot  = sns.scatterplot(x=\"trip_distance\", y=\"fare_amount\", data=df[(df['trip_distance']<500) & (df['fare_amount']>0)])\n",
    "\n",
    "scatter_plot.set_title('Relationship between Trip Distance and Fare Amount')\n",
    "scatter_plot.set_xlabel('Trip Distance (miles)')\n",
    "scatter_plot.set_ylabel('Fare Amount ($)')\n",
    "scatter_plot;"
   ]
  },
  {
   "cell_type": "markdown",
   "id": "a3d7a83b-e1c5-4e10-b431-67c0c583a15c",
   "metadata": {},
   "source": [
    "### **Problem 3: What are the busiest hours for taxi trips?**"
   ]
  },
  {
   "cell_type": "code",
   "execution_count": 75,
   "id": "ea23bad1-989a-4c0b-acf9-6f411eb7c967",
   "metadata": {},
   "outputs": [],
   "source": [
    "import pymysql\n",
    "\n",
    "rides_per_hour = []\n",
    "# Connect to the database\n",
    "connection = pymysql.connect(host='localhost', user='root', password='root', database='nyc_taxi_data')\n",
    "\n",
    "try:\n",
    "    with connection.cursor() as cursor:\n",
    "        # Execute a query\n",
    "        cursor.execute(\"SELECT EXTRACT(HOUR FROM tpep_pickup_datetime) AS hour, COUNT(*) AS num_trips FROM nyc_taxi_data.nyctaxidata GROUP BY hour ORDER BY num_trips DESC;\")\n",
    "        \n",
    "        # Fetch all rows from the last executed query\n",
    "        result = cursor.fetchall()\n",
    "        \n",
    "        for row in result:\n",
    "            rides_per_hour.append(row)\n",
    "finally:\n",
    "    connection.close()"
   ]
  },
  {
   "cell_type": "code",
   "execution_count": 76,
   "id": "ff451f74-858d-4679-8e58-bc59c14280ab",
   "metadata": {},
   "outputs": [
    {
     "data": {
      "image/png": "[encoded data removed]",
      "text/plain": [
       "<Figure size 640x480 with 1 Axes>"
      ]
     },
     "metadata": {},
     "output_type": "display_data"
    }
   ],
   "source": [
    "import matplotlib.pyplot as plt\n",
    "\n",
    "rides_df = pd.DataFrame(rides_per_hour)\n",
    "rides_df.columns = ['hour','num_trips']\n",
    "rides_df.sort_values(by = 'hour', ascending = True)\n",
    "\n",
    "barplot = sns.barplot(x='hour', y='num_trips', data=rides_df)\n",
    "\n",
    "barplot.set_title('Number of Trips per Hour')\n",
    "barplot.set_xlabel('Hour of the Day')\n",
    "barplot.set_ylabel('Number of Trips')\n",
    "barplot;"
   ]
  },
  {
   "cell_type": "markdown",
   "id": "5b1ba0e0-83ac-426f-98e1-f301b6cfc7fa",
   "metadata": {},
   "source": [
    "### **Problem 4: What is the distribution of total fare amounts?**"
   ]
  },
  {
   "cell_type": "code",
   "execution_count": 77,
   "id": "38db2fd3-0111-49b6-ad09-992e9ea5ba7d",
   "metadata": {},
   "outputs": [
    {
     "data": {
      "text/plain": [
       "(3376566, 2)"
      ]
     },
     "execution_count": 77,
     "metadata": {},
     "output_type": "execute_result"
    }
   ],
   "source": [
    "df.shape"
   ]
  },
  {
   "cell_type": "code",
   "execution_count": 90,
   "id": "1ca0f38d-ad50-4f9e-a448-4237c581ab26",
   "metadata": {},
   "outputs": [
    {
     "data": {
      "image/png": "[encoded data removed]",
      "text/plain": [
       "<Figure size 640x480 with 1 Axes>"
      ]
     },
     "metadata": {},
     "output_type": "display_data"
    }
   ],
   "source": [
    "# histogram plot\n",
    "histogram = sns.histplot(x='fare_amount', data=df[df['fare_amount']>0])\n",
    "\n",
    "plt.title('Fare Amount Distribution')\n",
    "plt.xlabel('Fare Amount')  \n",
    "plt.ylabel('Count')\n",
    "plt.xlim(0,90)\n",
    "\n",
    "# Display the plot\n",
    "plt.show()"
   ]
  },
  {
   "cell_type": "code",
   "execution_count": null,
   "id": "739e4c3f-e597-4976-927a-d50103209561",
   "metadata": {},
   "outputs": [],
   "source": []
  },
  {
   "cell_type": "markdown",
   "id": "4e296406-9a42-4798-ac7a-30802abb09e0",
   "metadata": {},
   "source": [
    "### **Problem 5: What is the average trip duration?**"
   ]
  },
  {
   "cell_type": "code",
   "execution_count": 1,
   "id": "eb6d1906-cb14-4d1b-ba12-6a4701cf09d7",
   "metadata": {},
   "outputs": [
    {
     "name": "stdout",
     "output_type": "stream",
     "text": [
      "avg trip:  17.6717  minutes\n"
     ]
    }
   ],
   "source": [
    "import pymysql\n",
    "\n",
    "# Connect to the database\n",
    "connection = pymysql.connect(host='localhost', user='root', password='root', database='nyc_taxi_data')\n",
    "\n",
    "try:\n",
    "    with connection.cursor() as cursor:\n",
    "        # Execute a query\n",
    "        cursor.execute(\"SELECT AVG(TIMESTAMPDIFF(MINUTE, tpep_pickup_datetime, tpep_dropoff_datetime)) AS trip_duration_minutes FROM nyc_taxi_data.nyctaxidata LIMIT 100000000\")\n",
    "        \n",
    "        # Fetch all rows from the last executed query\n",
    "        result = cursor.fetchall()\n",
    "        \n",
    "        for row in result:\n",
    "            print(\"avg trip: \",float(row[0]), \" minutes\")\n",
    "finally:\n",
    "    connection.close()\n"
   ]
  },
  {
   "cell_type": "code",
   "execution_count": null,
   "id": "4af3ef50-25e8-42dc-9946-fe9370993ffb",
   "metadata": {},
   "outputs": [],
   "source": []
  },
  {
   "cell_type": "markdown",
   "id": "2e253836-1f29-4563-b73e-a9c098b142e4",
   "metadata": {},
   "source": [
    "## APPENDIX: Figuring out the spike around $70 in Question 4."
   ]
  },
  {
   "cell_type": "code",
   "execution_count": 96,
   "id": "7e7a9001-61a2-47eb-9fba-c18db55091fd",
   "metadata": {},
   "outputs": [
    {
     "name": "stderr",
     "output_type": "stream",
     "text": [
      "C:\\Users\\Administrator\\AppData\\Local\\Temp\\2\\ipykernel_10704\\1316467031.py:13: UserWarning: pandas only supports SQLAlchemy connectable (engine/connection) or database string URI or sqlite3 DBAPI2 connection. Other DBAPI2 objects are not tested. Please consider using SQLAlchemy.\n",
      "  for chunk in pd.read_sql_query(query,\n"
     ]
    }
   ],
   "source": [
    "import pymysql\n",
    "\n",
    "new_df = pd.DataFrame()\n",
    "chunk_size = 100000\n",
    "\n",
    "# Connect to the database\n",
    "connection = pymysql.connect(host='localhost', user='root', password='root', database='nyc_taxi_data')\n",
    "\n",
    "query = \"SELECT *, TIMESTAMPDIFF(MINUTE, tpep_pickup_datetime, tpep_dropoff_datetime) AS trip_duration_minutes FROM nyc_taxi_data.nyctaxidata LIMIT 100000000\"\n",
    "\n",
    "chunks = []\n",
    "\n",
    "try:\n",
    "    for chunk in pd.read_sql_query(query, connection, chunksize=chunk_size):\n",
    "        chunks.append(chunk)\n",
    "finally:\n",
    "    connection.close()\n",
    "\n",
    "new_df = pd.concat(chunks, ignore_index = True)"
   ]
  },
  {
   "cell_type": "code",
   "execution_count": 101,
   "id": "05dc1bb8-b178-4c9e-8225-677e79a600da",
   "metadata": {},
   "outputs": [],
   "source": [
    "new_df = pd.DataFrame(new_df)"
   ]
  },
  {
   "cell_type": "code",
   "execution_count": 102,
   "id": "15346322-b0c8-439f-a3eb-fbde12170240",
   "metadata": {},
   "outputs": [
    {
     "data": {
      "text/html": [
       "<div>\n",
       "<style scoped>\n",
       "    .dataframe tbody tr th:only-of-type {\n",
       "        vertical-align: middle;\n",
       "    }\n",
       "\n",
       "    .dataframe tbody tr th {\n",
       "        vertical-align: top;\n",
       "    }\n",
       "\n",
       "    .dataframe thead th {\n",
       "        text-align: right;\n",
       "    }\n",
       "</style>\n",
       "<table border=\"1\" class=\"dataframe\">\n",
       "  <thead>\n",
       "    <tr style=\"text-align: right;\">\n",
       "      <th></th>\n",
       "      <th>id</th>\n",
       "      <th>VendorID</th>\n",
       "      <th>tpep_pickup_datetime</th>\n",
       "      <th>tpep_dropoff_datetime</th>\n",
       "      <th>passenger_count</th>\n",
       "      <th>trip_distance</th>\n",
       "      <th>RatecodeID</th>\n",
       "      <th>store_and_fwd_flag</th>\n",
       "      <th>PULocationID</th>\n",
       "      <th>DOLocationID</th>\n",
       "      <th>...</th>\n",
       "      <th>fare_amount</th>\n",
       "      <th>extra</th>\n",
       "      <th>mta_tax</th>\n",
       "      <th>tip_amount</th>\n",
       "      <th>tolls_amount</th>\n",
       "      <th>improvement_surcharge</th>\n",
       "      <th>total_amount</th>\n",
       "      <th>congestion_surcharge</th>\n",
       "      <th>Airport_fee</th>\n",
       "      <th>trip_duration_minutes</th>\n",
       "    </tr>\n",
       "  </thead>\n",
       "  <tbody>\n",
       "    <tr>\n",
       "      <th>82</th>\n",
       "      <td>83</td>\n",
       "      <td>1</td>\n",
       "      <td>2023-12-01 00:07:16</td>\n",
       "      <td>2023-12-01 00:33:42</td>\n",
       "      <td>1.0</td>\n",
       "      <td>18.70</td>\n",
       "      <td>2</td>\n",
       "      <td>N</td>\n",
       "      <td>132</td>\n",
       "      <td>148</td>\n",
       "      <td>...</td>\n",
       "      <td>70.0</td>\n",
       "      <td>2.50</td>\n",
       "      <td>0.5</td>\n",
       "      <td>14.80</td>\n",
       "      <td>0.00</td>\n",
       "      <td>1.0</td>\n",
       "      <td>88.80</td>\n",
       "      <td>2.5</td>\n",
       "      <td>0.00</td>\n",
       "      <td>26</td>\n",
       "    </tr>\n",
       "    <tr>\n",
       "      <th>95</th>\n",
       "      <td>96</td>\n",
       "      <td>2</td>\n",
       "      <td>2023-12-01 00:27:23</td>\n",
       "      <td>2023-12-01 00:27:32</td>\n",
       "      <td>1.0</td>\n",
       "      <td>0.01</td>\n",
       "      <td>2</td>\n",
       "      <td>N</td>\n",
       "      <td>264</td>\n",
       "      <td>264</td>\n",
       "      <td>...</td>\n",
       "      <td>70.0</td>\n",
       "      <td>0.00</td>\n",
       "      <td>0.5</td>\n",
       "      <td>0.00</td>\n",
       "      <td>0.00</td>\n",
       "      <td>1.0</td>\n",
       "      <td>71.50</td>\n",
       "      <td>0.0</td>\n",
       "      <td>0.00</td>\n",
       "      <td>0</td>\n",
       "    </tr>\n",
       "    <tr>\n",
       "      <th>130</th>\n",
       "      <td>131</td>\n",
       "      <td>2</td>\n",
       "      <td>2023-12-01 00:38:28</td>\n",
       "      <td>2023-12-01 00:38:36</td>\n",
       "      <td>1.0</td>\n",
       "      <td>0.00</td>\n",
       "      <td>2</td>\n",
       "      <td>N</td>\n",
       "      <td>237</td>\n",
       "      <td>237</td>\n",
       "      <td>...</td>\n",
       "      <td>70.0</td>\n",
       "      <td>0.00</td>\n",
       "      <td>0.5</td>\n",
       "      <td>0.00</td>\n",
       "      <td>0.00</td>\n",
       "      <td>1.0</td>\n",
       "      <td>74.00</td>\n",
       "      <td>2.5</td>\n",
       "      <td>0.00</td>\n",
       "      <td>0</td>\n",
       "    </tr>\n",
       "    <tr>\n",
       "      <th>368</th>\n",
       "      <td>369</td>\n",
       "      <td>2</td>\n",
       "      <td>2023-12-01 00:27:13</td>\n",
       "      <td>2023-12-01 01:03:30</td>\n",
       "      <td>1.0</td>\n",
       "      <td>16.95</td>\n",
       "      <td>2</td>\n",
       "      <td>N</td>\n",
       "      <td>41</td>\n",
       "      <td>132</td>\n",
       "      <td>...</td>\n",
       "      <td>70.0</td>\n",
       "      <td>0.00</td>\n",
       "      <td>0.5</td>\n",
       "      <td>0.00</td>\n",
       "      <td>6.94</td>\n",
       "      <td>1.0</td>\n",
       "      <td>78.44</td>\n",
       "      <td>0.0</td>\n",
       "      <td>0.00</td>\n",
       "      <td>36</td>\n",
       "    </tr>\n",
       "    <tr>\n",
       "      <th>469</th>\n",
       "      <td>470</td>\n",
       "      <td>2</td>\n",
       "      <td>2023-12-01 00:22:34</td>\n",
       "      <td>2023-12-01 00:59:35</td>\n",
       "      <td>1.0</td>\n",
       "      <td>17.90</td>\n",
       "      <td>2</td>\n",
       "      <td>N</td>\n",
       "      <td>132</td>\n",
       "      <td>48</td>\n",
       "      <td>...</td>\n",
       "      <td>70.0</td>\n",
       "      <td>0.00</td>\n",
       "      <td>0.5</td>\n",
       "      <td>0.00</td>\n",
       "      <td>0.00</td>\n",
       "      <td>1.0</td>\n",
       "      <td>75.75</td>\n",
       "      <td>2.5</td>\n",
       "      <td>1.75</td>\n",
       "      <td>37</td>\n",
       "    </tr>\n",
       "    <tr>\n",
       "      <th>...</th>\n",
       "      <td>...</td>\n",
       "      <td>...</td>\n",
       "      <td>...</td>\n",
       "      <td>...</td>\n",
       "      <td>...</td>\n",
       "      <td>...</td>\n",
       "      <td>...</td>\n",
       "      <td>...</td>\n",
       "      <td>...</td>\n",
       "      <td>...</td>\n",
       "      <td>...</td>\n",
       "      <td>...</td>\n",
       "      <td>...</td>\n",
       "      <td>...</td>\n",
       "      <td>...</td>\n",
       "      <td>...</td>\n",
       "      <td>...</td>\n",
       "      <td>...</td>\n",
       "      <td>...</td>\n",
       "      <td>...</td>\n",
       "      <td>...</td>\n",
       "    </tr>\n",
       "    <tr>\n",
       "      <th>3372241</th>\n",
       "      <td>3372242</td>\n",
       "      <td>1</td>\n",
       "      <td>2023-12-31 17:02:01</td>\n",
       "      <td>2023-12-31 17:35:47</td>\n",
       "      <td>0.0</td>\n",
       "      <td>16.70</td>\n",
       "      <td>0</td>\n",
       "      <td></td>\n",
       "      <td>132</td>\n",
       "      <td>137</td>\n",
       "      <td>...</td>\n",
       "      <td>70.0</td>\n",
       "      <td>1.75</td>\n",
       "      <td>0.5</td>\n",
       "      <td>12.40</td>\n",
       "      <td>6.94</td>\n",
       "      <td>1.0</td>\n",
       "      <td>95.09</td>\n",
       "      <td>0.0</td>\n",
       "      <td>0.00</td>\n",
       "      <td>33</td>\n",
       "    </tr>\n",
       "    <tr>\n",
       "      <th>3373138</th>\n",
       "      <td>3373139</td>\n",
       "      <td>1</td>\n",
       "      <td>2023-12-31 19:24:26</td>\n",
       "      <td>2023-12-31 19:57:07</td>\n",
       "      <td>0.0</td>\n",
       "      <td>17.50</td>\n",
       "      <td>0</td>\n",
       "      <td></td>\n",
       "      <td>132</td>\n",
       "      <td>141</td>\n",
       "      <td>...</td>\n",
       "      <td>70.0</td>\n",
       "      <td>1.75</td>\n",
       "      <td>0.5</td>\n",
       "      <td>15.15</td>\n",
       "      <td>0.00</td>\n",
       "      <td>1.0</td>\n",
       "      <td>90.90</td>\n",
       "      <td>0.0</td>\n",
       "      <td>0.00</td>\n",
       "      <td>32</td>\n",
       "    </tr>\n",
       "    <tr>\n",
       "      <th>3373182</th>\n",
       "      <td>3373183</td>\n",
       "      <td>1</td>\n",
       "      <td>2023-12-31 19:25:59</td>\n",
       "      <td>2023-12-31 19:58:05</td>\n",
       "      <td>0.0</td>\n",
       "      <td>16.40</td>\n",
       "      <td>0</td>\n",
       "      <td></td>\n",
       "      <td>132</td>\n",
       "      <td>237</td>\n",
       "      <td>...</td>\n",
       "      <td>70.0</td>\n",
       "      <td>1.75</td>\n",
       "      <td>0.5</td>\n",
       "      <td>7.57</td>\n",
       "      <td>0.00</td>\n",
       "      <td>1.0</td>\n",
       "      <td>83.32</td>\n",
       "      <td>0.0</td>\n",
       "      <td>0.00</td>\n",
       "      <td>32</td>\n",
       "    </tr>\n",
       "    <tr>\n",
       "      <th>3375562</th>\n",
       "      <td>3375563</td>\n",
       "      <td>1</td>\n",
       "      <td>2023-12-31 22:45:37</td>\n",
       "      <td>2023-12-31 23:20:31</td>\n",
       "      <td>0.0</td>\n",
       "      <td>17.80</td>\n",
       "      <td>0</td>\n",
       "      <td></td>\n",
       "      <td>132</td>\n",
       "      <td>152</td>\n",
       "      <td>...</td>\n",
       "      <td>70.0</td>\n",
       "      <td>1.75</td>\n",
       "      <td>0.5</td>\n",
       "      <td>12.02</td>\n",
       "      <td>6.94</td>\n",
       "      <td>1.0</td>\n",
       "      <td>92.21</td>\n",
       "      <td>0.0</td>\n",
       "      <td>0.00</td>\n",
       "      <td>34</td>\n",
       "    </tr>\n",
       "    <tr>\n",
       "      <th>3376508</th>\n",
       "      <td>3376509</td>\n",
       "      <td>1</td>\n",
       "      <td>2023-12-31 23:32:08</td>\n",
       "      <td>2024-01-01 00:18:28</td>\n",
       "      <td>0.0</td>\n",
       "      <td>20.40</td>\n",
       "      <td>0</td>\n",
       "      <td></td>\n",
       "      <td>132</td>\n",
       "      <td>151</td>\n",
       "      <td>...</td>\n",
       "      <td>70.0</td>\n",
       "      <td>1.75</td>\n",
       "      <td>0.5</td>\n",
       "      <td>15.15</td>\n",
       "      <td>0.00</td>\n",
       "      <td>1.0</td>\n",
       "      <td>90.90</td>\n",
       "      <td>0.0</td>\n",
       "      <td>0.00</td>\n",
       "      <td>46</td>\n",
       "    </tr>\n",
       "  </tbody>\n",
       "</table>\n",
       "<p>115883 rows × 21 columns</p>\n",
       "</div>"
      ],
      "text/plain": [
       "              id  VendorID tpep_pickup_datetime tpep_dropoff_datetime  \\\n",
       "82            83         1  2023-12-01 00:07:16   2023-12-01 00:33:42   \n",
       "95            96         2  2023-12-01 00:27:23   2023-12-01 00:27:32   \n",
       "130          131         2  2023-12-01 00:38:28   2023-12-01 00:38:36   \n",
       "368          369         2  2023-12-01 00:27:13   2023-12-01 01:03:30   \n",
       "469          470         2  2023-12-01 00:22:34   2023-12-01 00:59:35   \n",
       "...          ...       ...                  ...                   ...   \n",
       "3372241  3372242         1  2023-12-31 17:02:01   2023-12-31 17:35:47   \n",
       "3373138  3373139         1  2023-12-31 19:24:26   2023-12-31 19:57:07   \n",
       "3373182  3373183         1  2023-12-31 19:25:59   2023-12-31 19:58:05   \n",
       "3375562  3375563         1  2023-12-31 22:45:37   2023-12-31 23:20:31   \n",
       "3376508  3376509         1  2023-12-31 23:32:08   2024-01-01 00:18:28   \n",
       "\n",
       "         passenger_count  trip_distance  RatecodeID store_and_fwd_flag  \\\n",
       "82                   1.0          18.70           2                  N   \n",
       "95                   1.0           0.01           2                  N   \n",
       "130                  1.0           0.00           2                  N   \n",
       "368                  1.0          16.95           2                  N   \n",
       "469                  1.0          17.90           2                  N   \n",
       "...                  ...            ...         ...                ...   \n",
       "3372241              0.0          16.70           0                      \n",
       "3373138              0.0          17.50           0                      \n",
       "3373182              0.0          16.40           0                      \n",
       "3375562              0.0          17.80           0                      \n",
       "3376508              0.0          20.40           0                      \n",
       "\n",
       "         PULocationID  DOLocationID  ...  fare_amount  extra  mta_tax  \\\n",
       "82                132           148  ...         70.0   2.50      0.5   \n",
       "95                264           264  ...         70.0   0.00      0.5   \n",
       "130               237           237  ...         70.0   0.00      0.5   \n",
       "368                41           132  ...         70.0   0.00      0.5   \n",
       "469               132            48  ...         70.0   0.00      0.5   \n",
       "...               ...           ...  ...          ...    ...      ...   \n",
       "3372241           132           137  ...         70.0   1.75      0.5   \n",
       "3373138           132           141  ...         70.0   1.75      0.5   \n",
       "3373182           132           237  ...         70.0   1.75      0.5   \n",
       "3375562           132           152  ...         70.0   1.75      0.5   \n",
       "3376508           132           151  ...         70.0   1.75      0.5   \n",
       "\n",
       "         tip_amount  tolls_amount  improvement_surcharge  total_amount  \\\n",
       "82            14.80          0.00                    1.0         88.80   \n",
       "95             0.00          0.00                    1.0         71.50   \n",
       "130            0.00          0.00                    1.0         74.00   \n",
       "368            0.00          6.94                    1.0         78.44   \n",
       "469            0.00          0.00                    1.0         75.75   \n",
       "...             ...           ...                    ...           ...   \n",
       "3372241       12.40          6.94                    1.0         95.09   \n",
       "3373138       15.15          0.00                    1.0         90.90   \n",
       "3373182        7.57          0.00                    1.0         83.32   \n",
       "3375562       12.02          6.94                    1.0         92.21   \n",
       "3376508       15.15          0.00                    1.0         90.90   \n",
       "\n",
       "         congestion_surcharge  Airport_fee  trip_duration_minutes  \n",
       "82                        2.5         0.00                     26  \n",
       "95                        0.0         0.00                      0  \n",
       "130                       2.5         0.00                      0  \n",
       "368                       0.0         0.00                     36  \n",
       "469                       2.5         1.75                     37  \n",
       "...                       ...          ...                    ...  \n",
       "3372241                   0.0         0.00                     33  \n",
       "3373138                   0.0         0.00                     32  \n",
       "3373182                   0.0         0.00                     32  \n",
       "3375562                   0.0         0.00                     34  \n",
       "3376508                   0.0         0.00                     46  \n",
       "\n",
       "[115883 rows x 21 columns]"
      ]
     },
     "execution_count": 102,
     "metadata": {},
     "output_type": "execute_result"
    }
   ],
   "source": [
    "new_df[new_df['fare_amount'] == 70]"
   ]
  },
  {
   "cell_type": "code",
   "execution_count": 105,
   "id": "7b83e2af-2147-49f2-af93-4ae1ddc75dcd",
   "metadata": {},
   "outputs": [
    {
     "data": {
      "text/plain": [
       "Index(['id', 'VendorID', 'tpep_pickup_datetime', 'tpep_dropoff_datetime',\n",
       "       'passenger_count', 'trip_distance', 'RatecodeID', 'store_and_fwd_flag',\n",
       "       'PULocationID', 'DOLocationID', 'payment_type', 'fare_amount', 'extra',\n",
       "       'mta_tax', 'tip_amount', 'tolls_amount', 'improvement_surcharge',\n",
       "       'total_amount', 'congestion_surcharge', 'Airport_fee',\n",
       "       'trip_duration_minutes'],\n",
       "      dtype='object')"
      ]
     },
     "execution_count": 105,
     "metadata": {},
     "output_type": "execute_result"
    }
   ],
   "source": [
    "new_df.columns"
   ]
  },
  {
   "cell_type": "code",
   "execution_count": 108,
   "id": "4520c000-265d-4ccf-9ae4-f3bd79f967cc",
   "metadata": {},
   "outputs": [
    {
     "data": {
      "image/png": "[encoded data removed]",
      "text/plain": [
       "<Figure size 640x480 with 1 Axes>"
      ]
     },
     "metadata": {},
     "output_type": "display_data"
    }
   ],
   "source": [
    "# histogram plot\n",
    "histogram = sns.histplot(x='total_amount', data=new_df[new_df['fare_amount']>0])\n",
    "\n",
    "plt.title('Fare Amount Distribution')\n",
    "plt.xlabel('Total Amount')  \n",
    "plt.ylabel('Count')\n",
    "plt.xlim(0,90)\n",
    "\n",
    "# Display the plot\n",
    "plt.show()"
   ]
  },
  {
   "cell_type": "code",
   "execution_count": null,
   "id": "221a8d96-de84-4b29-a42a-01e64d66d167",
   "metadata": {},
   "outputs": [],
   "source": []
  }
 ],
 "metadata": {
  "kernelspec": {
   "display_name": "Python 3 (ipykernel)",
   "language": "python",
   "name": "python3"
  },
  "language_info": {
   "codemirror_mode": {
    "name": "ipython",
    "version": 3
   },
   "file_extension": ".py",
   "mimetype": "text/x-python",
   "name": "python",
   "nbconvert_exporter": "python",
   "pygments_lexer": "ipython3",
   "version": "3.11.0"
  }
 },
 "nbformat": 4,
 "nbformat_minor": 5
}
